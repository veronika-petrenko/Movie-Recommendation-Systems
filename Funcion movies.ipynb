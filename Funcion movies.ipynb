{
 "cells": [
  {
   "cell_type": "code",
   "execution_count": 1,
   "metadata": {},
   "outputs": [],
   "source": [
    "import pandas as pd\n",
    "import numpy as np\n",
    "import matplotlib.pyplot as plt\n",
    "import seaborn as sns"
   ]
  },
  {
   "cell_type": "code",
   "execution_count": 2,
   "metadata": {},
   "outputs": [],
   "source": [
    "userInput = [\n",
    "            {'title':'Breakfast Club, The', 'rating':5},\n",
    "            {'title':'Toy Story', 'rating':3.5},\n",
    "            {'title':'Jumanji', 'rating':2},\n",
    "            {'title':\"Pulp Fiction\", 'rating':5},\n",
    "            {'title':'Akira', 'rating':4.5}\n",
    "         ] "
   ]
  },
  {
   "cell_type": "code",
   "execution_count": null,
   "metadata": {},
   "outputs": [],
   "source": [
    "userInput"
   ]
  },
  {
   "cell_type": "code",
   "execution_count": 10,
   "metadata": {},
   "outputs": [],
   "source": [
    "def movies(userInput):\n",
    "    inputMovies = pd.DataFrame(userInput)\n",
    "    df = pd.read_csv('movies.csv')\n",
    "    users = pd.read_csv('ratings.csv')\n",
    "    del users['timestamp']\n",
    "    lista= []\n",
    "    for i in range(len(df)):\n",
    "        lista.append(df.iloc[i,1].split('(')[0].strip()) #clean titles from our df with movies info \n",
    "    df['title'] = lista\n",
    "    df2 = pd.merge(left = inputMovies, right = df, how = 'inner', on = 'title')\n",
    "    del df2['title']\n",
    "    del df2['genres']\n",
    "    filtrado = users[users['movieId'].isin(df2['movieId'].values)]\n",
    "    \n",
    "    #filter by users that saw the same movies as our user\n",
    "    from collections import Counter\n",
    "    dic = dict(Counter(filtrado['userId']))\n",
    "    lista2 = []\n",
    "    for i in dic.items(): \n",
    "        if i[1] == 5:\n",
    "            lista2.append(i[0])\n",
    "\n",
    "    user100 = filtrado[filtrado['userId'].isin(lista2[0:100])] #choose 100 users\n",
    "    user100 = user100.reset_index(drop = True)\n",
    "\n",
    "    columns = ['userId']\n",
    "\n",
    "    for i in df2['movieId'].values:\n",
    "        columns.append(i)\n",
    "\n",
    "    df_agrupado = pd.DataFrame(columns=columns)\n",
    "    df_agrupado #create new df with users, movies to make correlations\n",
    "\n",
    "    for i in range(len(lista2[0:100])): #fill the df with user ratings and movie ids in columns\n",
    "        registro = []\n",
    "        registro.append(lista2[0:100][i])\n",
    "        for j in df_agrupado.columns[1:]:\n",
    "            registro.append(float(user100[(user100[\"userId\"] == lista2[0:100][i]) & (user100[\"movieId\"] == j)][\"rating\"].values))\n",
    "        df_agrupado.loc[i] = registro\n",
    "\n",
    "    from scipy import stats\n",
    "\n",
    "    corr= [] #calculate correlations between our user ratings and similar customer ratings \n",
    "    for i in range(len(df_agrupado)):\n",
    "        corr.append(stats.pearsonr(df_agrupado.iloc[i,1:],df2['rating'])[0])\n",
    "\n",
    "    df_agrupado['corr'] = corr\n",
    "    #create a new df with the same users but the movies our user haven't seen\n",
    "    df_agrupado2 = pd.merge(left = df_agrupado, right = users[(users['userId'].isin(lista2[0:100])) & (~users['movieId'].isin(df2['movieId'].values))], how = 'inner', on = ['userId'])\n",
    "\n",
    "    #multipy the correlations (similarity index and ratings of each movie)\n",
    "    notas = []\n",
    "    for i in range(len(df_agrupado2)):\n",
    "        notas.append(df_agrupado2.iloc[i,6] * df_agrupado2.iloc[i,8])\n",
    "\n",
    "    df_agrupado2['notas'] = notas\n",
    "\n",
    "    dffinal = df_agrupado2.groupby('movieId').sum().reset_index().sort_values('movieId') #sum ratings of each movie\n",
    "    dffinal.drop( df2['movieId'].values , axis=1, inplace= True)\n",
    "\n",
    "    ratingfinal = [] #calculate final rating dividing the movie rating and the correlation of the user with our user \n",
    "    for i in range(len(dffinal)):\n",
    "        if dffinal.iloc[i,2] == 0:\n",
    "            ratingfinal.append(0)\n",
    "        else:\n",
    "            ratingfinal.append(dffinal.iloc[i,4] / dffinal.iloc[i,2])\n",
    "\n",
    "    dffinal['ratingfinal'] = ratingfinal\n",
    "\n",
    "    dffinal = pd.merge(left = dffinal, right = df, how = 'inner', on = 'movieId') #add the initial df with movie titles\n",
    "\n",
    "    dffinal.sort_values('ratingfinal', ascending = False)\n",
    "\n",
    "    return dffinal.sort_values('ratingfinal', ascending = False).head(10)['title'].values #return 10 movie titles "
   ]
  },
  {
   "cell_type": "code",
   "execution_count": 11,
   "metadata": {},
   "outputs": [
    {
     "data": {
      "text/plain": [
       "array(['R.I.P.D.', 'Under the Rainbow', 'Our Family Wedding',\n",
       "       'He Was a Quiet Man', 'Did You Hear About the Morgans?',\n",
       "       'Killing Them Softly', 'Children of Huang Shi, The', 'Everest',\n",
       "       'Bell, Book and Candle', 'Auntie Mame'], dtype=object)"
      ]
     },
     "execution_count": 11,
     "metadata": {},
     "output_type": "execute_result"
    }
   ],
   "source": [
    "movies(userInput)"
   ]
  },
  {
   "cell_type": "code",
   "execution_count": null,
   "metadata": {},
   "outputs": [],
   "source": []
  }
 ],
 "metadata": {
  "kernelspec": {
   "display_name": "Python 3",
   "language": "python",
   "name": "python3"
  },
  "language_info": {
   "codemirror_mode": {
    "name": "ipython",
    "version": 3
   },
   "file_extension": ".py",
   "mimetype": "text/x-python",
   "name": "python",
   "nbconvert_exporter": "python",
   "pygments_lexer": "ipython3",
   "version": "3.8.5"
  }
 },
 "nbformat": 4,
 "nbformat_minor": 4
}
